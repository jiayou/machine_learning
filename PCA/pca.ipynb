{
 "cells": [
  {
   "cell_type": "code",
   "execution_count": null,
   "metadata": {
    "collapsed": false
   },
   "outputs": [],
   "source": [
    "from PIL import Image\n",
    "from PIL import ImageFilter\n",
    "\n",
    "%matplotlib inline  \n",
    "\n",
    "import numpy as np\n",
    "import matplotlib\n",
    "import matplotlib.pyplot as plt\n",
    "\n",
    "\n",
    "im1 = Image.open(r\"C:\\Users\\L-wxia1\\Pictures\\ScreenHunter_002.bmp\")\n",
    "\n",
    "im1.filter(ImageFilter.EDGE_ENHANCE)\n",
    "im2=im1.convert(mode=\"L\")\n",
    "\n",
    "im2.show()"
   ]
  },
  {
   "cell_type": "raw",
   "metadata": {
    "collapsed": true
   },
   "source": [
    "\n",
    "pixels = list(im2.getdata())\n",
    "\n",
    "x=np.array(pixels)\n",
    "y=x.reshape(im2.size)\n",
    "print(y)\n",
    "\n",
    "############\n",
    "#\n",
    "# import scipy.misc\n",
    "# im = scipy.misc.imread('um_000000.png', flatten=False, mode='RGB')\n",
    "# print(im.shape)\n",
    "#\n",
    "###########\n",
    "\n"
   ]
  },
  {
   "cell_type": "code",
   "execution_count": null,
   "metadata": {
    "collapsed": true
   },
   "outputs": [],
   "source": [
    "\n",
    "## calculate COV(x)\n",
    "# http://deeplearning.net/reading-list/\n",
    "# http://www.deeplearningbook.org/contents/linear_algebra.html\n",
    "\n",
    "# 详解协方差与协方差矩阵\n",
    "# http://blog.csdn.net/ybdesire/article/details/6270328\n",
    "# http://www.cnblogs.com/cvlabs/archive/2010/05/08/1730319.html\n",
    "# http://pinkyjie.com/2010/08/31/covariance/\n",
    "\n",
    "data = np.asarray(im2).transpose()\n",
    "av1 = data - np.mean(data)\n",
    "im9=Image.fromarray(av1).convert(mode=\"L\")\n",
    "im9.show()\n"
   ]
  },
  {
   "cell_type": "code",
   "execution_count": null,
   "metadata": {
    "collapsed": false,
    "scrolled": true
   },
   "outputs": [],
   "source": [
    "c=np.cov(data)\n",
    "A, eig, AT = np.linalg.svd(c)\n",
    "\n",
    "import matplotlib.pyplot as plt\n",
    "plt.plot(eig)\n"
   ]
  },
  {
   "cell_type": "code",
   "execution_count": null,
   "metadata": {
    "collapsed": false
   },
   "outputs": [],
   "source": [
    "M,N = data.shape\n",
    "U, eig, V = np.linalg.svd(data)\n",
    "K=6;\n",
    "\n",
    "for i in range(0,K):\n",
    "    num= int(M/(2**i))\n",
    "    \n",
    "    print(num)\n",
    "    v = eig.copy();\n",
    "    v[num:]=0;\n",
    "    L1=np.diag(v)\n",
    "    L2=np.zeros([M-N, N])\n",
    "    L=np.vstack((L1,L2))\n",
    "\n",
    "    new_data=np.matrix(U) * np.matrix(L) * np.matrix(V)\n",
    "    new_im=Image.fromarray(new_data).convert(\"L\")\n",
    "    plt.figure(1)\n",
    "    plt.subplot(2, 3, i+1)\n",
    "    plt.imshow(new_data, cmap='gray')\n",
    "    \n",
    "    plt.figure(2)\n",
    "    plt.subplot(2, 3, i+1)\n",
    "    plt.imshow(abs(new_data-data), cmap='gray')\n",
    "\n"
   ]
  },
  {
   "cell_type": "code",
   "execution_count": null,
   "metadata": {
    "collapsed": true
   },
   "outputs": [],
   "source": []
  }
 ],
 "metadata": {
  "kernelspec": {
   "display_name": "Python 3",
   "language": "python",
   "name": "python3"
  },
  "language_info": {
   "codemirror_mode": {
    "name": "ipython",
    "version": 3
   },
   "file_extension": ".py",
   "mimetype": "text/x-python",
   "name": "python",
   "nbconvert_exporter": "python",
   "pygments_lexer": "ipython3",
   "version": "3.5.2"
  }
 },
 "nbformat": 4,
 "nbformat_minor": 1
}
